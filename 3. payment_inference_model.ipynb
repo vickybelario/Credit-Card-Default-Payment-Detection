{
 "cells": [
  {
   "cell_type": "code",
   "execution_count": 1,
   "metadata": {},
   "outputs": [],
   "source": [
    "import pandas as pd\n",
    "import numpy as np\n",
    "# Save Model\n",
    "import pickle\n",
    "import joblib\n",
    "import json"
   ]
  },
  {
   "cell_type": "code",
   "execution_count": 2,
   "metadata": {},
   "outputs": [],
   "source": [
    "# Memuat model dan file lainnya\n",
    "with open('list_cat_cols.txt', 'r') as file_1:\n",
    "  list_cat_col = json.load(file_1)\n",
    "\n",
    "with open('list_num_cols.txt', 'r') as file_2:\n",
    "  list_num_col = json.load(file_2)\n",
    "\n",
    "with open(\"scaler.pkl\", \"rb\") as file_3:\n",
    "  scaler = pickle.load(file_3)\n",
    "\n",
    "with open(\"model.pkl\", \"rb\") as file_4:\n",
    "  model = pickle.load(file_4)"
   ]
  },
  {
   "cell_type": "code",
   "execution_count": 3,
   "metadata": {},
   "outputs": [
    {
     "name": "stdout",
     "output_type": "stream",
     "text": [
      "   limit_balance  sex  education_level  marital_status   age  pay_0  pay_2  \\\n",
      "0        50000.0    2                3               1  51.0   -1.0   -1.0   \n",
      "\n",
      "   pay_3  pay_4  pay_5  ...  bill_amt_4  bill_amt_5  bill_amt_6  pay_amt_1  \\\n",
      "0   -1.0   -1.0   -2.0  ...         0.0         0.0         0.0      300.0   \n",
      "\n",
      "   pay_amt_2  pay_amt_3  pay_amt_4  pay_amt_5  pay_amt_6  \\\n",
      "0     5880.0        0.0        0.0        0.0        0.0   \n",
      "\n",
      "   default_payment_next_month  \n",
      "0                           1  \n",
      "\n",
      "[1 rows x 24 columns]\n"
     ]
    }
   ],
   "source": [
    "import pandas as pd\n",
    "\n",
    "# Data yang diberikan\n",
    "data_inference = {\n",
    "    'limit_balance': [50000.0],\n",
    "    'sex': [2],\n",
    "    'education_level': [3],\n",
    "    'marital_status': [1],\n",
    "    'age': [51.0],\n",
    "    'pay_0': [-1.0],\n",
    "    'pay_2': [-1.0],\n",
    "    'pay_3': [-1.0],\n",
    "    'pay_4': [-1.0],\n",
    "    'pay_5': [-2.0],\n",
    "    'pay_6': [-2.0],\n",
    "    'bill_amt_1': [752.0],\n",
    "    'bill_amt_2': [300.0],\n",
    "    'bill_amt_3': [5880.0],\n",
    "    'bill_amt_4': [0.0],\n",
    "    'bill_amt_5': [0.0],\n",
    "    'bill_amt_6': [0.0],\n",
    "    'pay_amt_1': [300.0],\n",
    "    'pay_amt_2': [5880.0],\n",
    "    'pay_amt_3': [0.0],\n",
    "    'pay_amt_4': [0.0],\n",
    "    'pay_amt_5': [0.0],\n",
    "    'pay_amt_6': [0.0],\n",
    "    'default_payment_next_month': [1]\n",
    "}\n",
    "\n",
    "# Buat DataFrame untuk model inference\n",
    "df_inference = pd.DataFrame(data_inference)\n",
    "\n",
    "# Tampilkan DataFrame untuk verifikasi\n",
    "print(df_inference)\n"
   ]
  },
  {
   "cell_type": "code",
   "execution_count": 4,
   "metadata": {},
   "outputs": [
    {
     "data": {
      "text/plain": [
       "array([[-1.        , -1.        , -1.        , -1.        , -2.        ,\n",
       "        -2.        ,  0.08163265,  0.02686788,  0.53454545,  0.        ,\n",
       "         0.        ,  0.        ]])"
      ]
     },
     "execution_count": 4,
     "metadata": {},
     "output_type": "execute_result"
    }
   ],
   "source": [
    "\n",
    "# Memisahkan dataset menjadi kolom-kolom numerik dan kategorikal\n",
    "data_inference_num = df_inference[list_num_col]\n",
    "data_inference_cat = df_inference[list_cat_col]\n",
    "\n",
    "# Melakukan penskalaan fitur numerik, encoding fitur kategorikal, dan menggabungkannya kembali\n",
    "data_inference_num_scaled = scaler.transform(data_inference_num)\n",
    "\n",
    "data_inference_final = np.concatenate([data_inference_cat, data_inference_num_scaled], axis = 1)\n",
    "\n",
    "# Membuat DataFrames dengan nama kolom\n",
    "\n",
    "data_inference_final "
   ]
  },
  {
   "cell_type": "code",
   "execution_count": 5,
   "metadata": {},
   "outputs": [
    {
     "name": "stdout",
     "output_type": "stream",
     "text": [
      "default_payment_next_month : 0.00\n"
     ]
    },
    {
     "name": "stderr",
     "output_type": "stream",
     "text": [
      "/Library/Frameworks/Python.framework/Versions/3.12/lib/python3.12/site-packages/sklearn/base.py:493: UserWarning: X does not have valid feature names, but SVC was fitted with feature names\n",
      "  warnings.warn(\n"
     ]
    }
   ],
   "source": [
    "# Predict the score\n",
    "predicted_score = model.predict(data_inference_final)\n",
    "\n",
    "# Show result\n",
    "print(f\"default_payment_next_month : {predicted_score[0]:.2f}\")"
   ]
  }
 ],
 "metadata": {
  "kernelspec": {
   "display_name": "Python 3",
   "language": "python",
   "name": "python3"
  },
  "language_info": {
   "codemirror_mode": {
    "name": "ipython",
    "version": 3
   },
   "file_extension": ".py",
   "mimetype": "text/x-python",
   "name": "python",
   "nbconvert_exporter": "python",
   "pygments_lexer": "ipython3",
   "version": "3.12.3"
  }
 },
 "nbformat": 4,
 "nbformat_minor": 2
}
